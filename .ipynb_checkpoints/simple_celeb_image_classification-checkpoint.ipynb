{
 "cells": [
  {
   "cell_type": "code",
   "execution_count": 1,
   "metadata": {},
   "outputs": [],
   "source": [
    "# Data cleaning\n",
    "# importing libs\n",
    "import numpy as np\n",
    "import matplotlib.pyplot as plt\n",
    "import cv2 \n",
    "import os\n",
    "import shutil # it offers a number of high-level opps on files  and collections..."
   ]
  },
  {
   "cell_type": "code",
   "execution_count": 2,
   "metadata": {},
   "outputs": [],
   "source": [
    "# some variables\n",
    "dataset_path = './dataset/'\n",
    "dataset_cr_path = './dataset/cropped/'"
   ]
  },
  {
   "cell_type": "code",
   "execution_count": 15,
   "metadata": {},
   "outputs": [],
   "source": [
    "# haar for face and eyes detection\n",
    "face_cascade = cv2.CascadeClassifier('./opencv/haarcascades/haarcascade_frontalface_default.xml')\n",
    "eye_cascade = cv2.CascadeClassifier('./opencv/haarcascades/haarcascade_eye.xml')"
   ]
  },
  {
   "cell_type": "code",
   "execution_count": 16,
   "metadata": {},
   "outputs": [],
   "source": [
    "# function that is going to help in detecting the face and return faces where both\n",
    "# eyes are seen for to help in training the model\n",
    "def get_cropped_image_where_both_eyes(image_path):\n",
    "    img = cv2.imread(image_path)\n",
    "    gray = cv2.cvtColor(img, cv2.COLOR_BGR2GRAY)\n",
    "    faces = face_cascade.detectMultiScale(gray, 1.3, 5)\n",
    "    for (x,y,w,h) in faces:\n",
    "        roi_gray = gray[y:y+h, x:x+w]\n",
    "        roi_color = img[y:y+h, x:x+w]\n",
    "        eyes = eye_cascade.detectMultiScale(roi_gray)\n",
    "        if len(eyes) >= 2:\n",
    "            return roi_color"
   ]
  },
  {
   "cell_type": "code",
   "execution_count": 5,
   "metadata": {},
   "outputs": [],
   "source": [
    "# create image directory to run throught the face cropping function\n",
    "img_dirs = []\n",
    "for entry in os.scandir(dataset_path):\n",
    "    if entry.is_dir():\n",
    "        img_dirs.append(entry.path)"
   ]
  },
  {
   "cell_type": "code",
   "execution_count": 6,
   "metadata": {},
   "outputs": [
    {
     "data": {
      "text/plain": [
       "['./dataset/angelina_jolie',\n",
       " './dataset/elon_musk',\n",
       " './dataset/james_gunn',\n",
       " './dataset/maria_sharapova',\n",
       " './dataset/serena_williams']"
      ]
     },
     "execution_count": 6,
     "metadata": {},
     "output_type": "execute_result"
    }
   ],
   "source": [
    "img_dirs\n",
    "\n",
    "# img_dirs = ['./dataset/angelina_jolie',\n",
    "#  './dataset/elon_musk',\n",
    "#  './dataset/james_gunn',\n",
    "#  './dataset/maria_sharapova',\n",
    "#  './dataset/serena_williams']\n",
    "\n",
    "# will come in handy when re-running"
   ]
  },
  {
   "cell_type": "code",
   "execution_count": 9,
   "metadata": {},
   "outputs": [],
   "source": [
    "# if checks if the folder exist and removes it, to facilitate multiple re-runs\n",
    "if os.path.exists(dataset_cr_path):\n",
    "    shutil.rmtree(dataset_cr_path)\n",
    "os.mkdir(dataset_cr_path)              #  creates the file"
   ]
  },
  {
   "cell_type": "code",
   "execution_count": 7,
   "metadata": {},
   "outputs": [],
   "source": [
    "cropped_image_dirs = []\n",
    "celebrity_file_names_dict = {}"
   ]
  },
  {
   "cell_type": "code",
   "execution_count": 18,
   "metadata": {},
   "outputs": [
    {
     "name": "stdout",
     "output_type": "stream",
     "text": [
      "angelina_jolie\n",
      "./dataset/angelina_jolie\\Angelina Jolie (_joliestweet) _ Twitter.jpg\n",
      "./dataset/angelina_jolie\\Angelina Jolie admits being picky about....jpg\n",
      "./dataset/angelina_jolie\\Angelina Jolie And Brad Pitt To Start....jfif\n",
      "./dataset/angelina_jolie\\Angelina Jolie and The Weeknd pictured....jpg\n",
      "./dataset/angelina_jolie\\Angelina Jolie and The Weeknd Spotted....png\n",
      "./dataset/angelina_jolie\\Angelina Jolie Blames Home Life Changes....jpg\n",
      "./dataset/angelina_jolie\\Angelina Jolie calls India_s COVID-19....jpg\n",
      "./dataset/angelina_jolie\\Angelina Jolie Children_ Age & Life....jpg\n",
      "./dataset/angelina_jolie\\Angelina Jolie Children_ Age & Life.jpg\n",
      "./dataset/angelina_jolie\\Angelina Jolie featured in HELLO....jpg\n",
      "./dataset/angelina_jolie\\Angelina Jolie filmography - Wikipedia.jpg\n",
      "./dataset/angelina_jolie\\Angelina Jolie has a message for us all....jpg\n",
      "./dataset/angelina_jolie\\Angelina Jolie hints how divorce from....jpg\n",
      "./dataset/angelina_jolie\\Angelina Jolie In The Media - Zitoc.jpg\n",
      "./dataset/angelina_jolie\\Angelina Jolie lookalike delivers....jpg\n",
      "./dataset/angelina_jolie\\Angelina Jolie Loves Beige_ But These 6....jpg\n",
      "./dataset/angelina_jolie\\Angelina Jolie makes chic appearance....jpg\n",
      "./dataset/angelina_jolie\\Angelina Jolie Net Worth and How She....jpg\n",
      "./dataset/angelina_jolie\\Angelina Jolie On Becoming a Stay-at....jpg\n",
      "./dataset/angelina_jolie\\Angelina Jolie Once Found Photos of....jpg\n",
      "./dataset/angelina_jolie\\Angelina Jolie Opens Up about the....jpg\n",
      "./dataset/angelina_jolie\\Angelina Jolie Reportedly Feels Failed....jpg\n",
      "./dataset/angelina_jolie\\Angelina Jolie Reveals Brad Pitt Is....jpg\n",
      "./dataset/angelina_jolie\\Angelina Jolie reveals health problems....jpg\n",
      "./dataset/angelina_jolie\\Angelina Jolie reveals her six children....jpg\n",
      "./dataset/angelina_jolie\\Angelina Jolie Rocks Sparkly Maxi Dress....jpg\n",
      "./dataset/angelina_jolie\\Angelina Jolie Says She Hasn_t Been....jpg\n",
      "./dataset/angelina_jolie\\Angelina Jolie Stuns Venice With Her....jpeg\n",
      "./dataset/angelina_jolie\\Angelina Jolie talks....jpg\n",
      "./dataset/angelina_jolie\\Angelina Jolie Wants Out of the....jpg\n",
      "./dataset/angelina_jolie\\Angelina Jolie Was Spotted Leaving Ex....jpg\n",
      "./dataset/angelina_jolie\\Angelina Jolie was _fearless_ before 60....webp\n",
      "./dataset/angelina_jolie\\Angelina Jolie Wears a Chic Black....jpg\n",
      "./dataset/angelina_jolie\\Angelina Jolie Wikipedia.jpg\n",
      "./dataset/angelina_jolie\\Angelina Jolie _ Angelina jolie....jpg\n",
      "./dataset/angelina_jolie\\Angelina Jolie _ Biography_ Movies....jpg\n",
      "./dataset/angelina_jolie\\Angelina Jolie....jpg\n",
      "./dataset/angelina_jolie\\Angelina Jolie.jfif\n",
      "./dataset/angelina_jolie\\Angelina JolieIMDb.jpg\n",
      "./dataset/angelina_jolie\\Angelina JolieVariety500 - Top 500....png\n",
      "./dataset/angelina_jolie\\Angelina Jolie_ Brad Pitt....jpg\n",
      "./dataset/angelina_jolie\\Angelina Jolie_ Fantasy Movie HD....jpg\n",
      "./dataset/angelina_jolie\\Angelina Jolie_ Unbroken - The New York....jpg\n",
      "./dataset/angelina_jolie\\Angelina Jolie_s Mastectomy Decision....jpg\n",
      "./dataset/angelina_jolie\\Angelina Jolie_s Vacation to Italy....jpg\n",
      "./dataset/angelina_jolie\\angie.jpg\n",
      "./dataset/angelina_jolie\\Anti Aging Skincare Routine....jpg\n",
      "./dataset/angelina_jolie\\Brad Pitt awarded joint custody of....jpg\n",
      "./dataset/angelina_jolie\\Brad Pitt divorce case... (1).jpg\n",
      "./dataset/angelina_jolie\\Brad Pitt divorce case....jpg\n",
      "./dataset/angelina_jolie\\Brad Pitt Wins More Custody in Legal....jpg\n",
      "./dataset/angelina_jolie\\custody battle with Brad Pitt....jpg\n",
      "./dataset/angelina_jolie\\Does Angelina Jolie subtly shoot Brad....jpg\n",
      "./dataset/angelina_jolie\\File_Angelina Jolie (48462859552).jpg ....jpg\n",
      "./dataset/angelina_jolie\\Gorgeous Transformation Is Turning Heads.jpg\n",
      "./dataset/angelina_jolie\\Happy Birthday_ Angelina Jolie_ Look....jpg\n",
      "./dataset/angelina_jolie\\Here_s How Angelina Jolie Says Her Kids....jpg\n",
      "./dataset/angelina_jolie\\Here_s Proof Angelina Jolie Lived Her....jpg\n",
      "./dataset/angelina_jolie\\In Neverending Divorce_ Angelina Jolie....jpg\n",
      "./dataset/angelina_jolie\\Keanu Reeves Responds to Angelina Jolie....jpg\n",
      "./dataset/angelina_jolie\\prophylactic mastectomy....jpg\n",
      "./dataset/angelina_jolie\\Report Alleges Angelina Jolie Is A....jpg\n",
      "./dataset/angelina_jolie\\The Lady And The Scamp_ Angelina Jolie....jpg\n",
      "./dataset/angelina_jolie\\Tragic Real-Life Story Of Angelina Jolie.jpg\n",
      "./dataset/angelina_jolie\\What Makes Angelina Jolie The Worst....jpg\n",
      "./dataset/angelina_jolie\\World_s Best Paid Actress_ Angelina....jpg\n",
      "./dataset/angelina_jolie\\Zahara Jolie-Pitt & Mom Angelina Jolie....jpg\n",
      "elon_musk\n",
      "./dataset/elon_musk\\and boring _ Elon Musk - YouTube.jpg\n",
      "Generating cropped images in folder:  ./dataset/cropped/elon_musk\n",
      "./dataset/elon_musk\\Billionaire Elon Musk Says He_s Leaving....jfif\n",
      "./dataset/elon_musk\\Bitcoin climbs as Elon Musk says Tesla....jpg\n",
      "./dataset/elon_musk\\Bitcoin tumbles after Elon Musk implies....jpeg\n",
      "./dataset/elon_musk\\CARBON REMOVAL FUNDED BY ELON MUSK....jpg\n",
      "./dataset/elon_musk\\Elon Musk - CNBC.jpeg\n",
      "./dataset/elon_musk\\Elon Musk - latest news_ breaking....jpg\n",
      "./dataset/elon_musk\\Elon Musk - Tesla_ Age & Family - Biography.jpg\n",
      "./dataset/elon_musk\\Elon Musk - Wikipedia (1).jpg\n",
      "./dataset/elon_musk\\Elon Musk - Wikipedia.jpg\n",
      "./dataset/elon_musk\\Elon Musk Appears to Have Been Targeted....jpg\n",
      "./dataset/elon_musk\\Elon Musk asks Twitter followers if....jpg\n",
      "./dataset/elon_musk\\Elon Musk Becomes Unlikely Anti....jpg\n",
      "./dataset/elon_musk\\Elon Musk becomes world_s second....jpg\n",
      "./dataset/elon_musk\\Elon Musk Bids Twitter Farewell....jpg\n",
      "./dataset/elon_musk\\Elon Musk changes job title to....jpg\n",
      "./dataset/elon_musk\\Elon Musk Confirms Walter Isaacson Is....jpg\n",
      "./dataset/elon_musk\\Elon Musk crowns himself _Technoking....jpg\n",
      "./dataset/elon_musk\\Elon Musk Didn_t Want Steering Wheel on....jpg\n",
      "./dataset/elon_musk\\Elon Musk donates _10M to keep AI....jpg\n",
      "./dataset/elon_musk\\Elon Musk dunks on Facebook and....jpeg\n",
      "./dataset/elon_musk\\Elon Musk epic.jpg\n",
      "./dataset/elon_musk\\Elon Musk Falls To Second Richest....jfif\n",
      "./dataset/elon_musk\\Elon Musk Has Finally Picked a Fight He....jpg\n",
      "./dataset/elon_musk\\Elon Musk is dangerously wrong about....jpg\n",
      "./dataset/elon_musk\\Elon Musk Is Many Things_ But Wise Isn....jpg\n",
      "./dataset/elon_musk\\Elon Musk Is Nearly _10 Billion Richer....jfif\n",
      "./dataset/elon_musk\\Elon Musk Is Now Setting His Eyes On....webp\n",
      "./dataset/elon_musk\\Elon Musk is now the richest man on the_yyth....jpg\n",
      "./dataset/elon_musk\\Elon Musk is _the biggest architect of....jpg\n",
      "./dataset/elon_musk\\Elon Musk Lashes Out At Apple Amid....jfif\n",
      "./dataset/elon_musk\\Elon Musk leapfrogs over Bill Gates to....jpg\n",
      "./dataset/elon_musk\\Elon Musk lives in this rented _mini....jpeg\n",
      "./dataset/elon_musk\\Elon Musk might be headed to space soon....jpg\n",
      "./dataset/elon_musk\\Elon Musk might be hosting SNL_ but....jpg\n",
      "./dataset/elon_musk\\Elon Musk overtakes Bill Gates to....jpg\n",
      "./dataset/elon_musk\\Elon Musk Passes Bill Gates To Become....jpg\n",
      "./dataset/elon_musk\\Elon Musk questions COVID-19 tests....jpg\n",
      "./dataset/elon_musk\\Elon Musk Rejected Several.jpg\n",
      "./dataset/elon_musk\\Elon Musk reveals he has Asperger.jpg\n",
      "./dataset/elon_musk\\Elon Musk Says He Has Too Much On His_yythkg.webp\n",
      "./dataset/elon_musk\\Elon Musk says he plans to hold bitcoin....jpeg\n",
      "./dataset/elon_musk\\Elon Musk Says He_s Selling His Last....webp\n",
      "./dataset/elon_musk\\Elon Musk says latest rumor of having a....jpg\n",
      "./dataset/elon_musk\\Elon Musk Says NASA_s _1.5 Billion ....webp\n",
      "./dataset/elon_musk\\Elon Musk says Tesla eyeing Russia as a....jpg\n",
      "./dataset/elon_musk\\Elon Musk says the SEC_s attempt to....jpg\n",
      "./dataset/elon_musk\\Elon Musk sets record straight on....jpeg\n",
      "./dataset/elon_musk\\Elon Musk takes stand in trial over....jpg\n",
      "./dataset/elon_musk\\Elon Musk to offer _100 million prize....jpg\n",
      "./dataset/elon_musk\\Elon Musk Tweeted Some Big Personal....jpg\n",
      "./dataset/elon_musk\\Elon Musk Tweets and Gives Crypto.jpg\n",
      "./dataset/elon_musk\\Elon Musk _ Biography_ SpaceX_ Tesla... (1).jpg\n",
      "./dataset/elon_musk\\Elon Musk _ Biography_ SpaceX_ Tesla....jpg\n",
      "./dataset/elon_musk\\Elon Musk.jfif\n",
      "./dataset/elon_musk\\Elon Musk_ Everything Is a Side Project....jpg\n",
      "./dataset/elon_musk\\Elon Musk_ Is It Asperger_s or Level 1 ASD_.jpg\n",
      "./dataset/elon_musk\\Elon Musk_ Technoking of Tesla_ orders....jpg\n",
      "./dataset/elon_musk\\Elon Musk_ Tell Me _Who the F___ You....jpg\n",
      "./dataset/elon_musk\\Elon Musk_ Tesla_ SpaceX CEO is Fortune....jpg\n",
      "./dataset/elon_musk\\Elon Musk_ The World_s Richest Person....jpg\n",
      "./dataset/elon_musk\\Elon Musk_s Childhood_ Education_ & Tesla.jpg\n",
      "./dataset/elon_musk\\Elon Musk_s SolarCity trial shows the....jpg\n",
      "./dataset/elon_musk\\Elon Musk_s Twitter profile picture....jpg\n",
      "./dataset/elon_musk\\Has Elon Musk read Tennessee Williams....jpg\n",
      "./dataset/elon_musk\\How Elon Musk Plans on Reinventing the....jpg\n",
      "./dataset/elon_musk\\Imagine..jpg\n",
      "./dataset/elon_musk\\Learn From China About Elon Musk And Tesla.webp\n",
      "./dataset/elon_musk\\Makes Elon Musk World_s Richest Person....jpg\n",
      "./dataset/elon_musk\\Musk vs Apple_ Elon Musk says _Epic is....jpg\n",
      "./dataset/elon_musk\\Prefab Tiny House in Texas....jpg\n",
      "./dataset/elon_musk\\six secrets to business success....png\n",
      "./dataset/elon_musk\\South Africa_ Elon Musk_s journey to....png\n",
      "./dataset/elon_musk\\Tesla chief Elon Musk tweets and....jpg\n",
      "./dataset/elon_musk\\Tesla failed to stop Musk tweets_ says....jpg\n",
      "./dataset/elon_musk\\Tesla Q2 Earnings_ Elon Musk Still....jpg\n",
      "./dataset/elon_musk\\Tesla shares soar _ Elon Musk....jpg\n",
      "./dataset/elon_musk\\Tesla Solar Team Scour Social Media for....jpg\n",
      "./dataset/elon_musk\\Tesla_ Elon Musk _rather hates_ being....jpg\n",
      "./dataset/elon_musk\\things Elon Musk said about robots....jpg\n",
      "./dataset/elon_musk\\Things You Didn_t Know About Elon Musk....jpg\n",
      "./dataset/elon_musk\\Truly Self-Driving Tesla in 2020....jpg\n",
      "./dataset/elon_musk\\What threatens Elon Musk for tweets....jpg\n",
      "./dataset/elon_musk\\Year_ 2007_ Elon Musk....jpg\n",
      "./dataset/elon_musk\\young Elon Musk get his first supercar....jpg\n",
      "james_gunn\n",
      "./dataset/james_gunn\\A Guide to the Films of James Gunn.jpg\n",
      "Generating cropped images in folder:  ./dataset/cropped/james_gunn\n",
      "./dataset/james_gunn\\Charting James Gunn_s Unexpected Rise....jpeg\n",
      "./dataset/james_gunn\\Dave Bautista _thanks_ Disney for....jpg\n",
      "./dataset/james_gunn\\DC boss teases James Gunn_s future....jpg\n",
      "./dataset/james_gunn\\Director James Gunn fired from....jpeg\n",
      "./dataset/james_gunn\\Director James Gunn implies Martin....jpg\n",
      "./dataset/james_gunn\\Disney Fired James Gunn As _Guardians....jpg\n",
      "./dataset/james_gunn\\Disney fires James Gunn after old....jpg\n",
      "./dataset/james_gunn\\Disney Fires _Guardians of the Galaxy....jpg\n",
      "./dataset/james_gunn\\Disney rehires James Gunn to direct....jpg\n",
      "./dataset/james_gunn\\Guardians filmmaker charts the....jpg\n",
      "./dataset/james_gunn\\Guardians of the Galaxy 2_ Director....jpg\n",
      "./dataset/james_gunn\\Guardians of the Galaxy 3 Title....jpg\n",
      "./dataset/james_gunn\\Guardians of the Galaxy 3_ Disney....jpg\n",
      "./dataset/james_gunn\\Guardians of the Galaxy Director Says....jpg\n",
      "./dataset/james_gunn\\Guardians of the Galaxy Vol. 3 ....jpg\n",
      "./dataset/james_gunn\\Guardians Of The Galaxy_ cast and fans....jpg\n",
      "./dataset/james_gunn\\Guardians of the Galaxy_ director James....webp\n",
      "./dataset/james_gunn\\How Disney And Marvel Can Save Face....jfif\n",
      "./dataset/james_gunn\\How James Gunn brought Guardians of the.jpg\n",
      "./dataset/james_gunn\\James Gunn Calls Martin Scorsese....jpg\n",
      "./dataset/james_gunn\\James Gunn calls Martin Scorsese_s....jpeg\n",
      "./dataset/james_gunn\\James Gunn Calls Martin Scorsese_s....jpg\n",
      "./dataset/james_gunn\\James Gunn Calls Scorsese_s Marvel....jpg\n",
      "./dataset/james_gunn\\James Gunn calls _Brightburn_ a _great....jpg\n",
      "./dataset/james_gunn\\James Gunn Clarifies Martin Scorsese....jpg\n",
      "./dataset/james_gunn\\James Gunn Comments After Disney....jpg\n",
      "./dataset/james_gunn\\James Gunn fired from Guardians of the....jpg\n",
      "./dataset/james_gunn\\James Gunn Fired From Guardians Of The....webp\n",
      "./dataset/james_gunn\\James Gunn fired from _Guardians of the... (1).jpg\n",
      "./dataset/james_gunn\\James Gunn Fired From _Guardians of the....jpg\n",
      "./dataset/james_gunn\\James Gunn Gets Candid About Martin....jpg\n",
      "./dataset/james_gunn\\James Gunn in Talks for _Suicide Squad....jpg\n",
      "./dataset/james_gunn\\James Gunn Is Back as the _Guardians of....jpg\n",
      "./dataset/james_gunn\\James Gunn is back at the helm of....jpeg\n",
      "./dataset/james_gunn\\James Gunn Is Joining the DCEU to Write....jpg\n",
      "./dataset/james_gunn\\James Gunn Is Not Roseanne_ and Disney....jpg\n",
      "./dataset/james_gunn\\James Gunn is now writing Suicide Squad....jpg\n",
      "./dataset/james_gunn\\James Gunn is writing the new Suicide....jpg\n",
      "./dataset/james_gunn\\James Gunn Makes First Statement....jpg\n",
      "./dataset/james_gunn\\James Gunn Nearly Blew Up His Career... (1).jpg\n",
      "./dataset/james_gunn\\James Gunn Nearly Blew Up His Career....jpg\n",
      "./dataset/james_gunn\\James Gunn on directing The Suicide....webp\n",
      "./dataset/james_gunn\\James Gunn on Twitter_ _Also for the....jpg\n",
      "./dataset/james_gunn\\James Gunn on Twitter_ _Proud to be on....jfif\n",
      "./dataset/james_gunn\\James Gunn Q&A_ Felicity Jones_ Raver....jpg\n",
      "./dataset/james_gunn\\James Gunn questions _cynical_ Scorsese....jpg\n",
      "./dataset/james_gunn\\James Gunn rehired to direct _Guardians....jpeg\n",
      "./dataset/james_gunn\\James Gunn reinstated as Guardians of... (1).jpg\n",
      "./dataset/james_gunn\\James Gunn reinstated as Guardians of... (2).jpg\n",
      "./dataset/james_gunn\\James Gunn reinstated as Guardians of....jpg\n",
      "./dataset/james_gunn\\James Gunn Reinstated For _Guardians Of....jpg\n",
      "./dataset/james_gunn\\James Gunn Returns to _Guardians of the....jpg\n",
      "./dataset/james_gunn\\James Gunn Reveals His Love For _The....jfif\n",
      "./dataset/james_gunn\\James Gunn Reveals Shooting for....webp\n",
      "./dataset/james_gunn\\James Gunn Reveals What It Was Like to....webp\n",
      "./dataset/james_gunn\\James Gunn says he thought career _was....jpg\n",
      "./dataset/james_gunn\\James Gunn says Martin Scorsese bashed....jpg\n",
      "./dataset/james_gunn\\James Gunn says Martin Scorsese_s....jpg\n",
      "./dataset/james_gunn\\James Gunn Says Superhero Genre Needs....jpg\n",
      "./dataset/james_gunn\\James Gunn teases plans for a Marvel....jpg\n",
      "./dataset/james_gunn\\James Gunn to Return for _Guardians of....jpg\n",
      "./dataset/james_gunn\\James Gunn Will Write and Direct....png\n",
      "./dataset/james_gunn\\James Gunn Will _Be Back_ to Make More....png\n",
      "./dataset/james_gunn\\James Gunn _ IFAC.jfif\n",
      "./dataset/james_gunn\\James GunnRotten Tomatoes.jpg\n",
      "./dataset/james_gunn\\James GunnWikipedia.jpg\n",
      "./dataset/james_gunn\\James Gunn_ Disney rehires sacked....jpg\n",
      "./dataset/james_gunn\\James Gunn_ Guardian of the _Guardians....jpg\n",
      "./dataset/james_gunn\\James Gunn_ Warner Bros. Offered ....jpg\n",
      "./dataset/james_gunn\\James Gunn_ _Can_t wait for you to see....jpg\n",
      "./dataset/james_gunn\\James Gunn_ _Guardians of the Galaxy....jpg\n",
      "./dataset/james_gunn\\Jamesg.png\n",
      "./dataset/james_gunn\\Martin Scorsese Bashed Marvel to Boost....png\n",
      "./dataset/james_gunn\\Suicide Squad__ James Gunn on....jpg\n",
      "./dataset/james_gunn\\Sylvester Stallone joins James Gunn_s.jpg\n",
      "./dataset/james_gunn\\Ted Cruz Thinks James Gunn Should be....jpg\n",
      "./dataset/james_gunn\\The firing of James Gunn is a lesson in_yyth.jpg\n",
      "./dataset/james_gunn\\The Suicide Squad_ Director James Gunn....jpeg\n",
      "./dataset/james_gunn\\The Suicide Squad_ director James Gunn....jpg\n",
      "./dataset/james_gunn\\The Suicide Squad_ James Gunn Reacts to....jpg\n",
      "./dataset/james_gunn\\The Suicide Squad__ James Gunn Will....jpg\n",
      "./dataset/james_gunn\\whattt.jpg\n",
      "maria_sharapova\n",
      "./dataset/maria_sharapova\\001aa018f83f14d5a9cd30.jpg\n",
      "Generating cropped images in folder:  ./dataset/cropped/maria_sharapova\n",
      "./dataset/maria_sharapova\\002831aab808e5488d75de92ec4fb939.jpg\n",
      "./dataset/maria_sharapova\\104680979-GettyImages-466647961.jpg\n",
      "./dataset/maria_sharapova\\12009b578d60268f36fcd7f2dcf7a04d.jpg\n",
      "./dataset/maria_sharapova\\1368843.jpg\n",
      "./dataset/maria_sharapova\\166-1666011_maria-sharapova-wallpaper-hd-tennis-maria-sharapova-4k.jpg\n",
      "./dataset/maria_sharapova\\183821-Maria_Sharapova-blonde-women-athletes-smiling-748x997.jpg\n",
      "./dataset/maria_sharapova\\184-1847379_download-maria-sharapova-wallpaper-2013-wallpaper-hd-full.jpg\n",
      "./dataset/maria_sharapova\\19102426-7520279-image-m-60_1569839081937.jpg\n",
      "./dataset/maria_sharapova\\2-70.jpg\n",
      "./dataset/maria_sharapova\\2015070814363485712044768374.jpg\n",
      "./dataset/maria_sharapova\\22620-alexander-gilkes-maria-sharapova.jpg\n",
      "./dataset/maria_sharapova\\26ED6CF600000578-3008031-image-a-105_1427131595123.jpg\n",
      "./dataset/maria_sharapova\\2900.jpg\n",
      "./dataset/maria_sharapova\\3-681.jpg\n",
      "./dataset/maria_sharapova\\36d4eca9-ab64-4f9f-bc82-5568ab9742ec-sharapova.jpg\n",
      "./dataset/maria_sharapova\\3FB3C05D00000578-4455850-Maria_Sharapova_has_moved_to_within_one_victory_of_guaranteeing_-a-57_1493413252955.jpg\n",
      "./dataset/maria_sharapova\\412eae9cac911235a67a77a59d24ef23.jpg\n",
      "./dataset/maria_sharapova\\6d409ff04b719c7822905a0198a8218b.jpg\n",
      "./dataset/maria_sharapova\\817a5860-8f61-11ea-adf5-c0bb526a31e7.jpg\n",
      "./dataset/maria_sharapova\\8680c4164dff384da765d34de8744fba.jpg\n",
      "./dataset/maria_sharapova\\89315xcitefun-maria-sharapova-002.jpg\n",
      "./dataset/maria_sharapova\\95349717081091468_hv3jryev_f.jpg\n",
      "./dataset/maria_sharapova\\a58dbc0e8684bc6de819f386d35d8240.jpg\n",
      "./dataset/maria_sharapova\\article-2729950-20AA1F5F00000578-936_634x949.jpg\n",
      "./dataset/maria_sharapova\\articles116-275.jpg\n",
      "./dataset/maria_sharapova\\beautiful-maria-sharapova-face-wallpaper.jpg\n",
      "./dataset/maria_sharapova\\d90560477a89f8e9670a3a5e092ba8dd.jpg\n",
      "./dataset/maria_sharapova\\db3fjrm-11a8defb-6e38-4dd5-9839-9f831ddda4a6.jpg\n",
      "./dataset/maria_sharapova\\DmWCxE.jpg\n",
      "./dataset/maria_sharapova\\f57779ccfc45909b9573d00a519e9a97.jpg\n",
      "./dataset/maria_sharapova\\gettyimages-90174893-e1435455524320.jpg\n",
      "./dataset/maria_sharapova\\GettyImages-905403138.jpg\n",
      "./dataset/maria_sharapova\\Grigor-Dimitrov-with-Mario-Sharapova-1-1280x720.jpg\n",
      "./dataset/maria_sharapova\\images.jfif\n",
      "./dataset/maria_sharapova\\Maria+Sharapova+Stella+Dinner+Party+8H6ZkYAupFOl.jpg\n",
      "./dataset/maria_sharapova\\maria-sharapova (1).jpg\n",
      "./dataset/maria_sharapova\\maria-sharapova-2013-beautiful_1920x1200_99155.jpg\n",
      "./dataset/maria_sharapova\\maria-sharapova-australian-open.jpg\n",
      "./dataset/maria_sharapova\\maria-sharapova-green-eyes-tennis-player-face.jpg\n",
      "./dataset/maria_sharapova\\maria-sharapova-is-said-to-have-a-new-old-coach-here-is-who.jpg\n",
      "./dataset/maria_sharapova\\maria-sharapova-out-in-new-york-september-11-2016_2.jpg\n",
      "./dataset/maria_sharapova\\maria-sharapova-praises-roger-federer-for-his-offcourt-life.jpg\n",
      "./dataset/maria_sharapova\\maria-sharapova-receives-marriage-proposal.jpg\n",
      "./dataset/maria_sharapova\\maria-sharapova-reveals-the-toughest-thing-about-life-as-a-tennis-player.jpg\n",
      "./dataset/maria_sharapova\\maria-sharapova-sexy-pics-2.jpg\n",
      "./dataset/maria_sharapova\\maria-sharapova-shopping-at-bristol-farms-in-los-angeles-06-30-2017_6.jpg\n",
      "./dataset/maria_sharapova\\maria-sharapova-steps-out-for-a-walk-with-new-boyfriend-alexander-gilkes-in-fulham-uk-191018_1.jpg\n",
      "./dataset/maria_sharapova\\maria-sharapova-steps-out-for-a-walk-with-new-boyfriend-alexander-gilkes-in-fulham-uk-191018_8.jpg\n",
      "./dataset/maria_sharapova\\maria-sharapova-tim-ferriss-interview_s.webp\n",
      "./dataset/maria_sharapova\\Maria-Sharapova-women-singles-event-US-Open-2006.jpg\n",
      "./dataset/maria_sharapova\\maria-sharapova-won-wimbledon-as-a-17-year-AFP_1PC6YI-2.jpg\n",
      "./dataset/maria_sharapova\\Maria-Sharapova.jpg\n",
      "./dataset/maria_sharapova\\MariaS-W1200.jpg.gallery.jpg\n",
      "./dataset/maria_sharapova\\mariasharapova-6-272x432.jpg\n",
      "./dataset/maria_sharapova\\Maria_Sharapova_women-169589.jpg\n",
      "./dataset/maria_sharapova\\Memoir.jpeg\n",
      "./dataset/maria_sharapova\\monochrome-maria-sharapova-face-wallpaper-65016-67225-hd-wallpapers.jpg\n",
      "./dataset/maria_sharapova\\NINTCHDBPICT000555871244-e1579584387360.jpg\n",
      "./dataset/maria_sharapova\\OD-BG400_20ODDa_8V_20150520191535.jpg\n",
      "./dataset/maria_sharapova\\pennetta-women-s-tennis-lacks-a-superstar-after-serena-williams-amp-maria-sharapova.jpg\n",
      "./dataset/maria_sharapova\\png-transparent-maria-sharapova-tennis-maria-sharapova-sport-girl-desktop-wallpaper.png\n",
      "./dataset/maria_sharapova\\PNGPIX-COM-Maria-Sharapova-PNG-Transparent-Image.png\n",
      "./dataset/maria_sharapova\\Pretty-Maria-Sharapova-4-SW4155.jpg\n",
      "./dataset/maria_sharapova\\Pretty-Maria-Sharapova-44-SW4156.jpg\n",
      "./dataset/maria_sharapova\\pretty-maria-sharapova-visits-nike-head-quarters-and-porsche-opening-pics-and-video-inside.jpg\n",
      "./dataset/maria_sharapova\\sharapova-84bc97653a7b49b73fcb4919fec16a31aff3b806-s800-c85.jpg\n",
      "./dataset/maria_sharapova\\sharapova-hits-the-practice-courts-and-met-ball-kids.jpg\n",
      "./dataset/maria_sharapova\\sharapova-power-4ea62a63cb076aed03d3972873cf2740cb4cd6a4-s1100-c15.jpg\n",
      "./dataset/maria_sharapova\\Sharapova_at_the_Mutua_Madrid_Open_2015.jpg\n",
      "./dataset/maria_sharapova\\skysports-maria-sharapova-tennis_4886283-1280x720-1.jpg\n",
      "./dataset/maria_sharapova\\TELEMMGLPICT000226075870_trans_NvBQzQNjv4BqP4pV-m6laGcMQMbuKYgJGTgvk-t9w27mDp57ATZVrwg.webp\n",
      "./dataset/maria_sharapova\\thumb-1920-37667.jpg\n",
      "./dataset/maria_sharapova\\unnamed (1).jpg\n",
      "./dataset/maria_sharapova\\unnamed (2).jpg\n",
      "./dataset/maria_sharapova\\unnamed.jpg\n",
      "./dataset/maria_sharapova\\wp1853660.jpg\n",
      "serena_williams\n",
      "./dataset/serena_williams\\00-story-image-serena-and-alexis-wedding.jpg\n",
      "Generating cropped images in folder:  ./dataset/cropped/serena_williams\n",
      "./dataset/serena_williams\\04-serena-williams-vogue-cover-february-2018.jpg\n",
      "./dataset/serena_williams\\082719-style-serena-williams-nike.jpg\n",
      "./dataset/serena_williams\\09Hunter1-superJumbo.jpg\n",
      "./dataset/serena_williams\\0ae47ed53dc47509d3f1d68b5a36a0c2.jpg\n",
      "./dataset/serena_williams\\104896644-GettyImages-823360.jpg\n",
      "./dataset/serena_williams\\14339074209247.jpg\n",
      "./dataset/serena_williams\\180529_gma_digital_serena_hpMain_16x9_992.jpg\n",
      "./dataset/serena_williams\\208ccd6a50433afc0f9e828f6ab4cc38.jpg\n",
      "./dataset/serena_williams\\4fee2e13ae7153bf53482c670383f987.jpg\n",
      "./dataset/serena_williams\\53cc1d13093f4ab989262e10a99d7e33.jpg\n",
      "./dataset/serena_williams\\577ff77cdd0895a01f8b4c75.jfif\n",
      "./dataset/serena_williams\\5e187cc2b2e66a44187ad008.jfif\n",
      "./dataset/serena_williams\\766c6664236f443c9c014cb2cbf9af7c_18.jpg\n",
      "./dataset/serena_williams\\a116634280a52f49d1882850332ea348.jpg\n",
      "./dataset/serena_williams\\ap_serena1.jpg\n",
      "./dataset/serena_williams\\Australian_Open_Tennis.JPG.jpg\n",
      "./dataset/serena_williams\\b47a15e872fd97677ece0952f97a952a.jpg\n",
      "./dataset/serena_williams\\beautiful-serena-williams-smile-face-hd-mobile-desktop-background-free-wallpaper.jpg\n",
      "./dataset/serena_williams\\c4fb97d5e53a45d5077691e738ad2559.jfif\n",
      "./dataset/serena_williams\\ca4f0064d6a8862fa90fa029b150f103.jpg\n",
      "./dataset/serena_williams\\dedeeb4268d54d1675933ff939740907.jpg\n",
      "./dataset/serena_williams\\download.jfif\n",
      "./dataset/serena_williams\\e2e24120-0e10-4f80-8305-8a471559729d-USP_Tennis__US_Open.jfif\n",
      "./dataset/serena_williams\\EJc7NAbXkAMVb7E.jpg\n",
      "./dataset/serena_williams\\EPA_Britain-Tennis-Wimbledon-2019-Grand-Slam_07708067jpg-JS504550178-1.jpg\n",
      "./dataset/serena_williams\\f_USTA1183921_20190903_USO_D9__DC27030.jpg\n",
      "./dataset/serena_williams\\GettyImages-1146432042.jpg\n",
      "./dataset/serena_williams\\GettyImages-2493795.jpg\n",
      "./dataset/serena_williams\\GettyImages-546039732.jpg\n",
      "./dataset/serena_williams\\iggy-azalea-serena-williams-that-grape-juice-2016-1191010.png\n",
      "./dataset/serena_williams\\image.jfif\n",
      "./dataset/serena_williams\\images (1).jfif\n",
      "./dataset/serena_williams\\images.jfif\n",
      "./dataset/serena_williams\\Marzorati-SerenaVenusToss.jpg\n",
      "./dataset/serena_williams\\Marzorati-Wimbledon-Williams-Murray.jpg\n",
      "./dataset/serena_williams\\merlin_157359645_df65b9ec-e01b-47a9-9b3a-efb7a73a7f37-superJumbo.jpg\n",
      "./dataset/serena_williams\\merlin_159085659_b310dac7-ae74-45b1-8dda-7b99897f32c9-superJumbo.jpg\n",
      "./dataset/serena_williams\\merlin_159161442_12e2102e-bd10-43d0-9b10-57d0dc248805-superJumbo.jpg\n",
      "./dataset/serena_williams\\Nike_2062_Serena_Vogue_7.19.18_M5_Square_native_1600.jpg\n",
      "./dataset/serena_williams\\nrm_1416399535-serena-berlei-2.jpg\n",
      "./dataset/serena_williams\\NTC_Core_Power_Workout_with_Serena_Williams_1_hd_1600.jpg\n",
      "./dataset/serena_williams\\phyeer11c02qbwe.jpg\n",
      "./dataset/serena_williams\\pri_69579085-e1518865160694.jpg\n",
      "./dataset/serena_williams\\rs_634x1024-171117181513-634.serena-williams-alexis-ohanian-wedding.ct.111717.jpg\n",
      "./dataset/serena_williams\\s110172820.jpg\n",
      "./dataset/serena_williams\\Screen-Shot-2020-02-16-at-1.02.12-PM-620x400.png\n",
      "./dataset/serena_williams\\Screenshot 2019-11-27 at 06.13.56.png\n",
      "./dataset/serena_williams\\serena-alexis_720-1.jpg\n",
      "./dataset/serena_williams\\serena-usa-m.jpg\n",
      "./dataset/serena_williams\\serena-venus-williams-redcarpet-gty-ps-181116_hpMain_16x9t_1600.jpg\n",
      "./dataset/serena_williams\\serena-williams-01-ss-jc-190709_hpMain_16x9_992.jpg\n",
      "./dataset/serena_williams\\serena-williams-alexis-ohanian-feat.jpg\n",
      "./dataset/serena_williams\\serena-williams-competition.jpg\n",
      "./dataset/serena_williams\\serena-williams-glamour-july-2016-cover-1.jpg\n",
      "./dataset/serena_williams\\serena-williams-glamour-july-2016-cover-4-social.jpg\n",
      "./dataset/serena_williams\\Serena-Williams-t.jpg\n",
      "./dataset/serena_williams\\serena-williams-unlimited-greatness.jpg\n",
      "./dataset/serena_williams\\Serena-Williams-Writes-a-Beautiful-Letter-to-Her-Mom.jpg\n",
      "./dataset/serena_williams\\serena-williams1.jpg\n",
      "./dataset/serena_williams\\serena_headshot.jpeg\n",
      "./dataset/serena_williams\\Serena_Williams_BNP_Paribas_Showdown_April_6_2013.jpg\n",
      "./dataset/serena_williams\\Teenager-Bianca-Andreescu-makes-Rogers-Cup-final9.jpg\n",
      "./dataset/serena_williams\\TELEMMGLPICT000208363706_trans++MG9jYnib85FJIfCc-bQYcTFCz-CXoLiAuLtBSY0KYYg.jpeg\n",
      "./dataset/serena_williams\\tennis-frenchopen-.jpg\n",
      "./dataset/serena_williams\\tmp_iILGT7_2f290cf6f8496dc0_GettyImages-676049730.jpg\n",
      "./dataset/serena_williams\\Williams-SerenaKN.jpg\n",
      "./dataset/serena_williams\\Ww0U1Zx8goxpttaQvkrk.jpg\n"
     ]
    }
   ],
   "source": [
    "# cropping image and saving them to the newly created images folders\n",
    "for img_dir in img_dirs:\n",
    "    celebrity_name = img_dir.split('/')[-1]\n",
    "    print(celebrity_name)\n",
    "    celebrity_file_names_dict[celebrity_name] = []  # keys\n",
    "    count = 1 \n",
    "    for entry in os.scandir(img_dir):\n",
    "        roi_color = get_cropped_image_where_both_eyes(entry.path)\n",
    "        print(entry.path)\n",
    "        if roi_color is not None:\n",
    "            cropped_folder = dataset_cr_path + celebrity_name\n",
    "            if not os.path.exists(cropped_folder):\n",
    "                os.makedirs(cropped_folder)\n",
    "                cropped_image_dirs.append(cropped_folder)\n",
    "                print(\"Generating cropped images in folder: \", cropped_folder)\n",
    "            \n",
    "        cropped_file_name = celebrity_name + str(count) + \".png\"\n",
    "        cropped_file_path = cropped_folder + \"/\" + cropped_file_name\n",
    "        \n",
    "        cv2.imwrite(cropped_file_path, roi_color)\n",
    "        celebrity_file_names_dict[celebrity_name].append(cropped_file_path)\n",
    "        count += 1"
   ]
  },
  {
   "cell_type": "code",
   "execution_count": 19,
   "metadata": {},
   "outputs": [],
   "source": [
    "# after some manual cleaning\n",
    "celebrity_file_names_dict = {}\n",
    "for img_dir in cropped_image_dirs:\n",
    "    celebrity_name = img_dir.split('/')[-1]\n",
    "    file_list = []\n",
    "    for entry in os.scandir(img_dir):\n",
    "        file_list.append(entry.path)\n",
    "    celebrity_file_names_dict[celebrity_name] = file_list"
   ]
  },
  {
   "cell_type": "code",
   "execution_count": 20,
   "metadata": {
    "collapsed": true,
    "jupyter": {
     "outputs_hidden": true
    }
   },
   "outputs": [
    {
     "data": {
      "text/plain": [
       "{'angelina_jolie': ['./dataset/cropped/angelina_jolie\\\\angelina_jolie1.png',\n",
       "  './dataset/cropped/angelina_jolie\\\\angelina_jolie10.png',\n",
       "  './dataset/cropped/angelina_jolie\\\\angelina_jolie11.png',\n",
       "  './dataset/cropped/angelina_jolie\\\\angelina_jolie12.png',\n",
       "  './dataset/cropped/angelina_jolie\\\\angelina_jolie13.png',\n",
       "  './dataset/cropped/angelina_jolie\\\\angelina_jolie14.png',\n",
       "  './dataset/cropped/angelina_jolie\\\\angelina_jolie15.png',\n",
       "  './dataset/cropped/angelina_jolie\\\\angelina_jolie16.png',\n",
       "  './dataset/cropped/angelina_jolie\\\\angelina_jolie18.png',\n",
       "  './dataset/cropped/angelina_jolie\\\\angelina_jolie2.png',\n",
       "  './dataset/cropped/angelina_jolie\\\\angelina_jolie21.png',\n",
       "  './dataset/cropped/angelina_jolie\\\\angelina_jolie22.png',\n",
       "  './dataset/cropped/angelina_jolie\\\\angelina_jolie23.png',\n",
       "  './dataset/cropped/angelina_jolie\\\\angelina_jolie24.png',\n",
       "  './dataset/cropped/angelina_jolie\\\\angelina_jolie25.png',\n",
       "  './dataset/cropped/angelina_jolie\\\\angelina_jolie27.png',\n",
       "  './dataset/cropped/angelina_jolie\\\\angelina_jolie28.png',\n",
       "  './dataset/cropped/angelina_jolie\\\\angelina_jolie29.png',\n",
       "  './dataset/cropped/angelina_jolie\\\\angelina_jolie30.png',\n",
       "  './dataset/cropped/angelina_jolie\\\\angelina_jolie31.png',\n",
       "  './dataset/cropped/angelina_jolie\\\\angelina_jolie32.png',\n",
       "  './dataset/cropped/angelina_jolie\\\\angelina_jolie34.png',\n",
       "  './dataset/cropped/angelina_jolie\\\\angelina_jolie35.png',\n",
       "  './dataset/cropped/angelina_jolie\\\\angelina_jolie36.png',\n",
       "  './dataset/cropped/angelina_jolie\\\\angelina_jolie37.png',\n",
       "  './dataset/cropped/angelina_jolie\\\\angelina_jolie38.png',\n",
       "  './dataset/cropped/angelina_jolie\\\\angelina_jolie39.png',\n",
       "  './dataset/cropped/angelina_jolie\\\\angelina_jolie40.png',\n",
       "  './dataset/cropped/angelina_jolie\\\\angelina_jolie43.png',\n",
       "  './dataset/cropped/angelina_jolie\\\\angelina_jolie44.png',\n",
       "  './dataset/cropped/angelina_jolie\\\\angelina_jolie45.png',\n",
       "  './dataset/cropped/angelina_jolie\\\\angelina_jolie46.png',\n",
       "  './dataset/cropped/angelina_jolie\\\\angelina_jolie47.png',\n",
       "  './dataset/cropped/angelina_jolie\\\\angelina_jolie48.png',\n",
       "  './dataset/cropped/angelina_jolie\\\\angelina_jolie49.png',\n",
       "  './dataset/cropped/angelina_jolie\\\\angelina_jolie50.png',\n",
       "  './dataset/cropped/angelina_jolie\\\\angelina_jolie53.png',\n",
       "  './dataset/cropped/angelina_jolie\\\\angelina_jolie55.png',\n",
       "  './dataset/cropped/angelina_jolie\\\\angelina_jolie56.png',\n",
       "  './dataset/cropped/angelina_jolie\\\\angelina_jolie57.png',\n",
       "  './dataset/cropped/angelina_jolie\\\\angelina_jolie58.png',\n",
       "  './dataset/cropped/angelina_jolie\\\\angelina_jolie61.png',\n",
       "  './dataset/cropped/angelina_jolie\\\\angelina_jolie62.png',\n",
       "  './dataset/cropped/angelina_jolie\\\\angelina_jolie63.png',\n",
       "  './dataset/cropped/angelina_jolie\\\\angelina_jolie64.png',\n",
       "  './dataset/cropped/angelina_jolie\\\\angelina_jolie65.png',\n",
       "  './dataset/cropped/angelina_jolie\\\\angelina_jolie66.png',\n",
       "  './dataset/cropped/angelina_jolie\\\\angelina_jolie7.png',\n",
       "  './dataset/cropped/angelina_jolie\\\\angelina_jolie8.png',\n",
       "  './dataset/cropped/angelina_jolie\\\\angelina_jolie9.png'],\n",
       " 'elon_musk': ['./dataset/cropped/elon_musk\\\\elon_musk1.png',\n",
       "  './dataset/cropped/elon_musk\\\\elon_musk10.png',\n",
       "  './dataset/cropped/elon_musk\\\\elon_musk14.png',\n",
       "  './dataset/cropped/elon_musk\\\\elon_musk16.png',\n",
       "  './dataset/cropped/elon_musk\\\\elon_musk17.png',\n",
       "  './dataset/cropped/elon_musk\\\\elon_musk18.png',\n",
       "  './dataset/cropped/elon_musk\\\\elon_musk19.png',\n",
       "  './dataset/cropped/elon_musk\\\\elon_musk22.png',\n",
       "  './dataset/cropped/elon_musk\\\\elon_musk24.png',\n",
       "  './dataset/cropped/elon_musk\\\\elon_musk25.png',\n",
       "  './dataset/cropped/elon_musk\\\\elon_musk26.png',\n",
       "  './dataset/cropped/elon_musk\\\\elon_musk27.png',\n",
       "  './dataset/cropped/elon_musk\\\\elon_musk28.png',\n",
       "  './dataset/cropped/elon_musk\\\\elon_musk3.png',\n",
       "  './dataset/cropped/elon_musk\\\\elon_musk30.png',\n",
       "  './dataset/cropped/elon_musk\\\\elon_musk31.png',\n",
       "  './dataset/cropped/elon_musk\\\\elon_musk32.png',\n",
       "  './dataset/cropped/elon_musk\\\\elon_musk33.png',\n",
       "  './dataset/cropped/elon_musk\\\\elon_musk35.png',\n",
       "  './dataset/cropped/elon_musk\\\\elon_musk39.png',\n",
       "  './dataset/cropped/elon_musk\\\\elon_musk40.png',\n",
       "  './dataset/cropped/elon_musk\\\\elon_musk42.png',\n",
       "  './dataset/cropped/elon_musk\\\\elon_musk44.png',\n",
       "  './dataset/cropped/elon_musk\\\\elon_musk45.png',\n",
       "  './dataset/cropped/elon_musk\\\\elon_musk47.png',\n",
       "  './dataset/cropped/elon_musk\\\\elon_musk48.png',\n",
       "  './dataset/cropped/elon_musk\\\\elon_musk49.png',\n",
       "  './dataset/cropped/elon_musk\\\\elon_musk5.png',\n",
       "  './dataset/cropped/elon_musk\\\\elon_musk50.png',\n",
       "  './dataset/cropped/elon_musk\\\\elon_musk51.png',\n",
       "  './dataset/cropped/elon_musk\\\\elon_musk53.png',\n",
       "  './dataset/cropped/elon_musk\\\\elon_musk54.png',\n",
       "  './dataset/cropped/elon_musk\\\\elon_musk55.png',\n",
       "  './dataset/cropped/elon_musk\\\\elon_musk56.png',\n",
       "  './dataset/cropped/elon_musk\\\\elon_musk57.png',\n",
       "  './dataset/cropped/elon_musk\\\\elon_musk58.png',\n",
       "  './dataset/cropped/elon_musk\\\\elon_musk59.png',\n",
       "  './dataset/cropped/elon_musk\\\\elon_musk6.png',\n",
       "  './dataset/cropped/elon_musk\\\\elon_musk60.png',\n",
       "  './dataset/cropped/elon_musk\\\\elon_musk61.png',\n",
       "  './dataset/cropped/elon_musk\\\\elon_musk62.png',\n",
       "  './dataset/cropped/elon_musk\\\\elon_musk63.png',\n",
       "  './dataset/cropped/elon_musk\\\\elon_musk65.png',\n",
       "  './dataset/cropped/elon_musk\\\\elon_musk66.png',\n",
       "  './dataset/cropped/elon_musk\\\\elon_musk67.png',\n",
       "  './dataset/cropped/elon_musk\\\\elon_musk68.png',\n",
       "  './dataset/cropped/elon_musk\\\\elon_musk70.png',\n",
       "  './dataset/cropped/elon_musk\\\\elon_musk71.png',\n",
       "  './dataset/cropped/elon_musk\\\\elon_musk72.png',\n",
       "  './dataset/cropped/elon_musk\\\\elon_musk76.png',\n",
       "  './dataset/cropped/elon_musk\\\\elon_musk78.png',\n",
       "  './dataset/cropped/elon_musk\\\\elon_musk8.png',\n",
       "  './dataset/cropped/elon_musk\\\\elon_musk81.png',\n",
       "  './dataset/cropped/elon_musk\\\\elon_musk82.png',\n",
       "  './dataset/cropped/elon_musk\\\\elon_musk83.png',\n",
       "  './dataset/cropped/elon_musk\\\\elon_musk84.png',\n",
       "  './dataset/cropped/elon_musk\\\\elon_musk85.png'],\n",
       " 'james_gunn': ['./dataset/cropped/james_gunn\\\\james_gunn1.png',\n",
       "  './dataset/cropped/james_gunn\\\\james_gunn10.png',\n",
       "  './dataset/cropped/james_gunn\\\\james_gunn12.png',\n",
       "  './dataset/cropped/james_gunn\\\\james_gunn15.png',\n",
       "  './dataset/cropped/james_gunn\\\\james_gunn18.png',\n",
       "  './dataset/cropped/james_gunn\\\\james_gunn20.png',\n",
       "  './dataset/cropped/james_gunn\\\\james_gunn27.png',\n",
       "  './dataset/cropped/james_gunn\\\\james_gunn28.png',\n",
       "  './dataset/cropped/james_gunn\\\\james_gunn29.png',\n",
       "  './dataset/cropped/james_gunn\\\\james_gunn33.png',\n",
       "  './dataset/cropped/james_gunn\\\\james_gunn38.png',\n",
       "  './dataset/cropped/james_gunn\\\\james_gunn39.png',\n",
       "  './dataset/cropped/james_gunn\\\\james_gunn46.png',\n",
       "  './dataset/cropped/james_gunn\\\\james_gunn5.png',\n",
       "  './dataset/cropped/james_gunn\\\\james_gunn51.png',\n",
       "  './dataset/cropped/james_gunn\\\\james_gunn52.png',\n",
       "  './dataset/cropped/james_gunn\\\\james_gunn53.png',\n",
       "  './dataset/cropped/james_gunn\\\\james_gunn57.png',\n",
       "  './dataset/cropped/james_gunn\\\\james_gunn59.png',\n",
       "  './dataset/cropped/james_gunn\\\\james_gunn60.png',\n",
       "  './dataset/cropped/james_gunn\\\\james_gunn62.png',\n",
       "  './dataset/cropped/james_gunn\\\\james_gunn63.png',\n",
       "  './dataset/cropped/james_gunn\\\\james_gunn65.png',\n",
       "  './dataset/cropped/james_gunn\\\\james_gunn67.png',\n",
       "  './dataset/cropped/james_gunn\\\\james_gunn68.png',\n",
       "  './dataset/cropped/james_gunn\\\\james_gunn7.png',\n",
       "  './dataset/cropped/james_gunn\\\\james_gunn70.png',\n",
       "  './dataset/cropped/james_gunn\\\\james_gunn71.png',\n",
       "  './dataset/cropped/james_gunn\\\\james_gunn72.png',\n",
       "  './dataset/cropped/james_gunn\\\\james_gunn77.png',\n",
       "  './dataset/cropped/james_gunn\\\\james_gunn8.png',\n",
       "  './dataset/cropped/james_gunn\\\\james_gunn81.png',\n",
       "  './dataset/cropped/james_gunn\\\\james_gunn9.png'],\n",
       " 'maria_sharapova': ['./dataset/cropped/maria_sharapova\\\\maria_sharapova11.png',\n",
       "  './dataset/cropped/maria_sharapova\\\\maria_sharapova12.png',\n",
       "  './dataset/cropped/maria_sharapova\\\\maria_sharapova13.png',\n",
       "  './dataset/cropped/maria_sharapova\\\\maria_sharapova19.png',\n",
       "  './dataset/cropped/maria_sharapova\\\\maria_sharapova2.png',\n",
       "  './dataset/cropped/maria_sharapova\\\\maria_sharapova20.png',\n",
       "  './dataset/cropped/maria_sharapova\\\\maria_sharapova21.png',\n",
       "  './dataset/cropped/maria_sharapova\\\\maria_sharapova22.png',\n",
       "  './dataset/cropped/maria_sharapova\\\\maria_sharapova23.png',\n",
       "  './dataset/cropped/maria_sharapova\\\\maria_sharapova25.png',\n",
       "  './dataset/cropped/maria_sharapova\\\\maria_sharapova28.png',\n",
       "  './dataset/cropped/maria_sharapova\\\\maria_sharapova38.png',\n",
       "  './dataset/cropped/maria_sharapova\\\\maria_sharapova40.png',\n",
       "  './dataset/cropped/maria_sharapova\\\\maria_sharapova43.png',\n",
       "  './dataset/cropped/maria_sharapova\\\\maria_sharapova5.png',\n",
       "  './dataset/cropped/maria_sharapova\\\\maria_sharapova50.png',\n",
       "  './dataset/cropped/maria_sharapova\\\\maria_sharapova51.png',\n",
       "  './dataset/cropped/maria_sharapova\\\\maria_sharapova56.png',\n",
       "  './dataset/cropped/maria_sharapova\\\\maria_sharapova58.png',\n",
       "  './dataset/cropped/maria_sharapova\\\\maria_sharapova6.png',\n",
       "  './dataset/cropped/maria_sharapova\\\\maria_sharapova60.png',\n",
       "  './dataset/cropped/maria_sharapova\\\\maria_sharapova64.png',\n",
       "  './dataset/cropped/maria_sharapova\\\\maria_sharapova65.png',\n",
       "  './dataset/cropped/maria_sharapova\\\\maria_sharapova66.png',\n",
       "  './dataset/cropped/maria_sharapova\\\\maria_sharapova67.png',\n",
       "  './dataset/cropped/maria_sharapova\\\\maria_sharapova68.png',\n",
       "  './dataset/cropped/maria_sharapova\\\\maria_sharapova7.png',\n",
       "  './dataset/cropped/maria_sharapova\\\\maria_sharapova71.png',\n",
       "  './dataset/cropped/maria_sharapova\\\\maria_sharapova73.png',\n",
       "  './dataset/cropped/maria_sharapova\\\\maria_sharapova76.png',\n",
       "  './dataset/cropped/maria_sharapova\\\\maria_sharapova77.png'],\n",
       " 'serena_williams': ['./dataset/cropped/serena_williams\\\\serena_williams1.png',\n",
       "  './dataset/cropped/serena_williams\\\\serena_williams12.png',\n",
       "  './dataset/cropped/serena_williams\\\\serena_williams13.png',\n",
       "  './dataset/cropped/serena_williams\\\\serena_williams14.png',\n",
       "  './dataset/cropped/serena_williams\\\\serena_williams15.png',\n",
       "  './dataset/cropped/serena_williams\\\\serena_williams18.png',\n",
       "  './dataset/cropped/serena_williams\\\\serena_williams19.png',\n",
       "  './dataset/cropped/serena_williams\\\\serena_williams2.png',\n",
       "  './dataset/cropped/serena_williams\\\\serena_williams20.png',\n",
       "  './dataset/cropped/serena_williams\\\\serena_williams21.png',\n",
       "  './dataset/cropped/serena_williams\\\\serena_williams22.png',\n",
       "  './dataset/cropped/serena_williams\\\\serena_williams30.png',\n",
       "  './dataset/cropped/serena_williams\\\\serena_williams31.png',\n",
       "  './dataset/cropped/serena_williams\\\\serena_williams34.png',\n",
       "  './dataset/cropped/serena_williams\\\\serena_williams39.png',\n",
       "  './dataset/cropped/serena_williams\\\\serena_williams41.png',\n",
       "  './dataset/cropped/serena_williams\\\\serena_williams43.png',\n",
       "  './dataset/cropped/serena_williams\\\\serena_williams44.png',\n",
       "  './dataset/cropped/serena_williams\\\\serena_williams5.png',\n",
       "  './dataset/cropped/serena_williams\\\\serena_williams51.png',\n",
       "  './dataset/cropped/serena_williams\\\\serena_williams53.png',\n",
       "  './dataset/cropped/serena_williams\\\\serena_williams55.png',\n",
       "  './dataset/cropped/serena_williams\\\\serena_williams56.png',\n",
       "  './dataset/cropped/serena_williams\\\\serena_williams57.png',\n",
       "  './dataset/cropped/serena_williams\\\\serena_williams59.png',\n",
       "  './dataset/cropped/serena_williams\\\\serena_williams6.png',\n",
       "  './dataset/cropped/serena_williams\\\\serena_williams60.png',\n",
       "  './dataset/cropped/serena_williams\\\\serena_williams66.png',\n",
       "  './dataset/cropped/serena_williams\\\\serena_williams67.png',\n",
       "  './dataset/cropped/serena_williams\\\\serena_williams7.png']}"
      ]
     },
     "execution_count": 20,
     "metadata": {},
     "output_type": "execute_result"
    }
   ],
   "source": [
    "celebrity_file_names_dict"
   ]
  },
  {
   "cell_type": "code",
   "execution_count": null,
   "metadata": {},
   "outputs": [],
   "source": [
    "# Image preprocessing"
   ]
  },
  {
   "cell_type": "code",
   "execution_count": 21,
   "metadata": {},
   "outputs": [],
   "source": [
    "import pywt\n",
    "\n",
    "# Thanks to stackoverflow\n",
    "def w2d(img, mode='haar', level=1):\n",
    "    imArray = img\n",
    "    # Datatype conversions\n",
    "    # Convert to grayscale\n",
    "    imArray = cv2.cvtColor(imArray, cv2.COLOR_BGR2GRAY)\n",
    "    # Convert to float\n",
    "    imArray = np.float32(imArray)\n",
    "    imArray /= 255;\n",
    "    # compute coefficients\n",
    "    coeffs = pywt.wavedec2(imArray, mode, level=level)\n",
    "    \n",
    "    # Process coefficiencts\n",
    "    coeffs_H = list(coeffs)\n",
    "    coeffs_H[0] *= 0;\n",
    "    \n",
    "    # reconstruction\n",
    "    imArray_H=pywt.waverec2(coeffs_H, mode);\n",
    "    imArray_H *= 255;\n",
    "    imArray_H = np.uint8(imArray_H)\n",
    "    \n",
    "    return imArray_H\n",
    "\n",
    "# This helps in feature extraction where different shape patterns and oppacity \n",
    "# in grayscale are draw on to the image. The patterns are differnt and inidcate diffetn face features"
   ]
  },
  {
   "cell_type": "code",
   "execution_count": 22,
   "metadata": {},
   "outputs": [],
   "source": [
    "class_dict = {}\n",
    "count = 0"
   ]
  },
  {
   "cell_type": "code",
   "execution_count": 23,
   "metadata": {},
   "outputs": [
    {
     "data": {
      "text/plain": [
       "{'angelina_jolie': 0,\n",
       " 'elon_musk': 1,\n",
       " 'james_gunn': 2,\n",
       " 'maria_sharapova': 3,\n",
       " 'serena_williams': 4}"
      ]
     },
     "execution_count": 23,
     "metadata": {},
     "output_type": "execute_result"
    }
   ],
   "source": [
    "for celebrity_name in celebrity_file_names_dict.keys():\n",
    "    class_dict[celebrity_name] = count\n",
    "    count = count + 1\n",
    "class_dict"
   ]
  },
  {
   "cell_type": "code",
   "execution_count": 24,
   "metadata": {},
   "outputs": [],
   "source": [
    "X, y = [], []"
   ]
  },
  {
   "cell_type": "code",
   "execution_count": 26,
   "metadata": {},
   "outputs": [],
   "source": [
    "for celebrity_name, training_files in celebrity_file_names_dict.items():\n",
    "    for training_image in training_files:\n",
    "        img = cv2.imread(training_image)\n",
    "        scaled_raw_img = cv2.resize(img, (32, 32)) # to make sure that both images are of the same size\n",
    "        img_haar = w2d(img, 'db1', 5)   # transformed image\n",
    "        scaled_img_haar = cv2.resize(img_haar, (32, 32))\n",
    "        combined_img = np.vstack((scaled_raw_img.reshape(32*32*3,1), scaled_img_haar.reshape(32*32,1)))    # vertical stacking of the images\n",
    "        X.append(combined_img)\n",
    "        y.append(class_dict[celebrity_name])"
   ]
  },
  {
   "cell_type": "code",
   "execution_count": 28,
   "metadata": {},
   "outputs": [
    {
     "data": {
      "text/plain": [
       "4096"
      ]
     },
     "execution_count": 28,
     "metadata": {},
     "output_type": "execute_result"
    }
   ],
   "source": [
    "(32*32*3) + (32*32)"
   ]
  },
  {
   "cell_type": "code",
   "execution_count": 29,
   "metadata": {},
   "outputs": [],
   "source": [
    "X = np.array(X).reshape(len(X), 4096).astype(float)"
   ]
  },
  {
   "cell_type": "code",
   "execution_count": 30,
   "metadata": {},
   "outputs": [
    {
     "data": {
      "text/plain": [
       "(201, 4096)"
      ]
     },
     "execution_count": 30,
     "metadata": {},
     "output_type": "execute_result"
    }
   ],
   "source": [
    "X.shape"
   ]
  },
  {
   "cell_type": "code",
   "execution_count": null,
   "metadata": {},
   "outputs": [],
   "source": [
    "# model building"
   ]
  },
  {
   "cell_type": "code",
   "execution_count": 32,
   "metadata": {},
   "outputs": [],
   "source": [
    "# importing modules\n",
    "from sklearn.svm import SVC\n",
    "from sklearn.preprocessing import StandardScaler\n",
    "from sklearn.model_selection import train_test_split\n",
    "from sklearn.pipeline import Pipeline\n",
    "from sklearn.metrics import classification_report"
   ]
  },
  {
   "cell_type": "code",
   "execution_count": 33,
   "metadata": {},
   "outputs": [],
   "source": [
    "X_train, X_test, y_train, y_test = train_test_split(X, y, test_size=0.2, random_state=42)"
   ]
  },
  {
   "cell_type": "code",
   "execution_count": 35,
   "metadata": {},
   "outputs": [
    {
     "data": {
      "text/plain": [
       "0.6829268292682927"
      ]
     },
     "execution_count": 35,
     "metadata": {},
     "output_type": "execute_result"
    }
   ],
   "source": [
    "pipe = Pipeline([('scaler', StandardScaler()), ('svc', SVC(kernel = 'rbf', C=10))])\n",
    "pipe.fit(X_train, y_train)\n",
    "pipe.score(X_test, y_test)"
   ]
  },
  {
   "cell_type": "code",
   "execution_count": 36,
   "metadata": {},
   "outputs": [
    {
     "name": "stdout",
     "output_type": "stream",
     "text": [
      "              precision    recall  f1-score   support\n",
      "\n",
      "           0       0.33      0.67      0.44         6\n",
      "           1       0.82      0.82      0.82        17\n",
      "           2       1.00      0.57      0.73         7\n",
      "           3       0.67      0.67      0.67         6\n",
      "           4       1.00      0.40      0.57         5\n",
      "\n",
      "    accuracy                           0.68        41\n",
      "   macro avg       0.76      0.63      0.65        41\n",
      "weighted avg       0.78      0.68      0.70        41\n",
      "\n"
     ]
    }
   ],
   "source": [
    "print(classification_report(y_test, pipe.predict(X_test)))"
   ]
  },
  {
   "cell_type": "code",
   "execution_count": 37,
   "metadata": {},
   "outputs": [],
   "source": [
    "from sklearn import svm\n",
    "from sklearn.ensemble import RandomForestClassifier\n",
    "from sklearn.linear_model import LogisticRegression\n",
    "from sklearn.pipeline import make_pipeline\n",
    "from sklearn.model_selection import GridSearchCV"
   ]
  },
  {
   "cell_type": "code",
   "execution_count": 38,
   "metadata": {},
   "outputs": [],
   "source": [
    "model_params = {\n",
    "    'svm': {\n",
    "        'model': svm.SVC(gamma='auto',probability=True),\n",
    "        'params' : {\n",
    "            'svc__C': [1,10,100,1000],\n",
    "            'svc__kernel': ['rbf','linear']\n",
    "        }  \n",
    "    },\n",
    "    'random_forest': {\n",
    "        'model': RandomForestClassifier(),\n",
    "        'params' : {\n",
    "            'randomforestclassifier__n_estimators': [1,5,10]\n",
    "        }\n",
    "    },\n",
    "    'logistic_regression' : {\n",
    "        'model': LogisticRegression(solver='liblinear',multi_class='auto'),\n",
    "        'params': {\n",
    "            'logisticregression__C': [1,5,10]\n",
    "        }\n",
    "    }\n",
    "}"
   ]
  },
  {
   "cell_type": "code",
   "execution_count": 40,
   "metadata": {},
   "outputs": [],
   "source": [
    "scores = []\n",
    "best_estimators = {}\n",
    "for algo, mp, in model_params.items():\n",
    "    pipe = make_pipeline(StandardScaler(), mp['model'])\n",
    "    clf = GridSearchCV(pipe, mp['params'], cv=5, return_train_score=False)\n",
    "    clf.fit(X_train, y_train)\n",
    "    scores.append({\n",
    "        'model': algo,\n",
    "        'best_score': clf.best_score_,\n",
    "        'best_params': clf.best_params_\n",
    "    })\n",
    "    best_estimators[algo] = clf.best_estimator_"
   ]
  },
  {
   "cell_type": "code",
   "execution_count": 41,
   "metadata": {},
   "outputs": [
    {
     "data": {
      "text/plain": [
       "{'svm': Pipeline(steps=[('standardscaler', StandardScaler()),\n",
       "                 ('svc',\n",
       "                  SVC(C=1, gamma='auto', kernel='linear', probability=True))]),\n",
       " 'random_forest': Pipeline(steps=[('standardscaler', StandardScaler()),\n",
       "                 ('randomforestclassifier',\n",
       "                  RandomForestClassifier(n_estimators=10))]),\n",
       " 'logistic_regression': Pipeline(steps=[('standardscaler', StandardScaler()),\n",
       "                 ('logisticregression',\n",
       "                  LogisticRegression(C=1, solver='liblinear'))])}"
      ]
     },
     "execution_count": 41,
     "metadata": {},
     "output_type": "execute_result"
    }
   ],
   "source": [
    "best_estimators"
   ]
  },
  {
   "cell_type": "code",
   "execution_count": 42,
   "metadata": {},
   "outputs": [
    {
     "data": {
      "text/plain": [
       "0.7073170731707317"
      ]
     },
     "execution_count": 42,
     "metadata": {},
     "output_type": "execute_result"
    }
   ],
   "source": [
    "best_estimators['svm'].score(X_test, y_test)"
   ]
  },
  {
   "cell_type": "code",
   "execution_count": 45,
   "metadata": {},
   "outputs": [],
   "source": [
    "from sklearn.model_selection import cross_val_score"
   ]
  },
  {
   "cell_type": "code",
   "execution_count": 53,
   "metadata": {},
   "outputs": [
    {
     "name": "stdout",
     "output_type": "stream",
     "text": [
      "0.775\n"
     ]
    }
   ],
   "source": [
    "cv_score = cross_val_score(best_estimators['svm'], X_train, y_train, cv=5)\n",
    "print(np.mean(cv_score))"
   ]
  },
  {
   "cell_type": "code",
   "execution_count": 43,
   "metadata": {},
   "outputs": [
    {
     "data": {
      "text/plain": [
       "0.5121951219512195"
      ]
     },
     "execution_count": 43,
     "metadata": {},
     "output_type": "execute_result"
    }
   ],
   "source": [
    "best_estimators['random_forest'].score(X_test,y_test)"
   ]
  },
  {
   "cell_type": "code",
   "execution_count": 44,
   "metadata": {},
   "outputs": [
    {
     "data": {
      "text/plain": [
       "0.8292682926829268"
      ]
     },
     "execution_count": 44,
     "metadata": {},
     "output_type": "execute_result"
    }
   ],
   "source": [
    "best_estimators['logistic_regression'].score(X_test,y_test)"
   ]
  },
  {
   "cell_type": "code",
   "execution_count": 52,
   "metadata": {},
   "outputs": [
    {
     "name": "stdout",
     "output_type": "stream",
     "text": [
      "0.8\n"
     ]
    }
   ],
   "source": [
    "cv_score = cross_val_score(best_estimators['logistic_regression'], X_train, y_train, cv=5)\n",
    "print(np.mean(cv_score))"
   ]
  },
  {
   "cell_type": "code",
   "execution_count": 54,
   "metadata": {},
   "outputs": [],
   "source": [
    "best_clf = best_estimators['logistic_regression']"
   ]
  },
  {
   "cell_type": "code",
   "execution_count": 55,
   "metadata": {},
   "outputs": [
    {
     "data": {
      "text/plain": [
       "array([[ 5,  0,  0,  0,  1],\n",
       "       [ 1, 16,  0,  0,  0],\n",
       "       [ 1,  0,  6,  0,  0],\n",
       "       [ 2,  0,  0,  4,  0],\n",
       "       [ 1,  0,  0,  1,  3]], dtype=int64)"
      ]
     },
     "execution_count": 55,
     "metadata": {},
     "output_type": "execute_result"
    }
   ],
   "source": [
    "from sklearn.metrics import confusion_matrix\n",
    "cm = confusion_matrix(y_test, best_clf.predict(X_test))\n",
    "cm"
   ]
  },
  {
   "cell_type": "code",
   "execution_count": 56,
   "metadata": {},
   "outputs": [
    {
     "data": {
      "text/plain": [
       "Text(69.0, 0.5, 'Truth')"
      ]
     },
     "execution_count": 56,
     "metadata": {},
     "output_type": "execute_result"
    },
    {
     "data": {
      "image/png": "[encoded data removed]",
      "text/plain": [
       "<Figure size 720x504 with 2 Axes>"
      ]
     },
     "metadata": {
      "needs_background": "light"
     },
     "output_type": "display_data"
    }
   ],
   "source": [
    "import seaborn as sns\n",
    "plt.figure(figsize=(10,7))\n",
    "sns.heatmap(cm, annot=True)\n",
    "plt.xlabel('Predicted')\n",
    "plt.ylabel('Truth')"
   ]
  },
  {
   "cell_type": "code",
   "execution_count": 57,
   "metadata": {},
   "outputs": [
    {
     "data": {
      "text/plain": [
       "['model_lr.pkl']"
      ]
     },
     "execution_count": 57,
     "metadata": {},
     "output_type": "execute_result"
    }
   ],
   "source": [
    "import joblib \n",
    "# Save the model as a pickle in a file \n",
    "joblib.dump(best_clf, 'model_lr.pkl')"
   ]
  },
  {
   "cell_type": "code",
   "execution_count": 58,
   "metadata": {},
   "outputs": [],
   "source": [
    "import json\n",
    "with open(\"class_dictionary.json\",\"w\") as f:\n",
    "    f.write(json.dumps(class_dict))"
   ]
  },
  {
   "cell_type": "code",
   "execution_count": 59,
   "metadata": {},
   "outputs": [],
   "source": [
    "with open(\"celeb_list_dir.json\", \"w\") as f:\n",
    "    f.write(json.dumps(celebrity_file_names_dict))"
   ]
  },
  {
   "cell_type": "code",
   "execution_count": null,
   "metadata": {},
   "outputs": [],
   "source": []
  }
 ],
 "metadata": {
  "kernelspec": {
   "display_name": "Python 3",
   "language": "python",
   "name": "python3"
  },
  "language_info": {
   "codemirror_mode": {
    "name": "ipython",
    "version": 3
   },
   "file_extension": ".py",
   "mimetype": "text/x-python",
   "name": "python",
   "nbconvert_exporter": "python",
   "pygments_lexer": "ipython3",
   "version": "3.8.5"
  }
 },
 "nbformat": 4,
 "nbformat_minor": 4
}
